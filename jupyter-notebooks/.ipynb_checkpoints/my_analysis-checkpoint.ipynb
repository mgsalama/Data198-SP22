{
 "cells": [
  {
   "cell_type": "markdown",
   "id": "3544b061",
   "metadata": {},
   "source": [
    "# This is Manaar Salama's markdown cell. Yay! :D"
   ]
  },
  {
   "cell_type": "code",
   "execution_count": 1,
   "id": "715f24ec",
   "metadata": {},
   "outputs": [
    {
     "name": "stdout",
     "output_type": "stream",
     "text": [
      "And this is Manaar's code cell.\n"
     ]
    }
   ],
   "source": [
    "print(\"And this is Manaar's code cell.\")"
   ]
  },
  {
   "cell_type": "code",
   "execution_count": null,
   "id": "8b355576",
   "metadata": {},
   "outputs": [],
   "source": []
  }
 ],
 "metadata": {
  "kernelspec": {
   "display_name": "Python 3 (ipykernel)",
   "language": "python",
   "name": "python3"
  },
  "language_info": {
   "codemirror_mode": {
    "name": "ipython",
    "version": 3
   },
   "file_extension": ".py",
   "mimetype": "text/x-python",
   "name": "python",
   "nbconvert_exporter": "python",
   "pygments_lexer": "ipython3",
   "version": "3.9.7"
  }
 },
 "nbformat": 4,
 "nbformat_minor": 5
}
